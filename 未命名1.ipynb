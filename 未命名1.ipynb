{
 "cells": [
  {
   "cell_type": "code",
   "execution_count": 9,
   "metadata": {},
   "outputs": [
    {
     "name": "stdout",
     "output_type": "stream",
     "text": [
      " * Serving Flask app \"__main__\" (lazy loading)\n",
      " * Environment: production\n",
      "   WARNING: Do not use the development server in a production environment.\n",
      "   Use a production WSGI server instead.\n",
      " * Debug mode: off\n"
     ]
    },
    {
     "name": "stderr",
     "output_type": "stream",
     "text": [
      " * Running on http://0.0.0.0:80/ (Press CTRL+C to quit)\n",
      "127.0.0.1 - - [07/Feb/2020 09:19:53] \"\u001b[37mGET / HTTP/1.1\u001b[0m\" 200 -\n",
      "127.0.0.1 - - [07/Feb/2020 09:19:53] \"\u001b[33mGET /static/images/sample.png HTTP/1.1\u001b[0m\" 404 -\n",
      "127.0.0.1 - - [07/Feb/2020 09:19:53] \"\u001b[33mGET /null HTTP/1.1\u001b[0m\" 404 -\n"
     ]
    }
   ],
   "source": [
    "#!/Library/Frameworks/Python.framework/Versions/3.6/bin/python3\n",
    "#from urllib.parse import urlparse\n",
    "from flask import Flask, jsonify, request, render_template\n",
    "from flask_cors import CORS\n",
    "import imageio\n",
    "# Instantiate the Node\n",
    "\n",
    "app = Flask(__name__)\n",
    "CORS(app)\n",
    "\n",
    "tmp=1\n",
    "@app.route('/')\n",
    "def index():\n",
    "    return render_template('./index.html')\n",
    "\n",
    "\n",
    "@app.route('/upload_image', methods=['POST'])\n",
    "def new_transaction():\n",
    "    global tmp\n",
    "    tmp = request.files['avatar']\n",
    "    tmp = imageio.imread(tmp, pilmode='RGB')\n",
    "    # Check that the required fields are in the POST'ed data\n",
    "    #required = ['sender_address', 'recipient_address', 'amount', 'signature']\n",
    "\n",
    "    #if transaction_result == False:\n",
    "        #response = {'message': 'Invalid Transaction!'}\n",
    "        #return jsonify(response), 200\n",
    "    response = {'message': 'N'}\n",
    "    return jsonify(response), 200\n",
    "@app.route('/add_data', methods=['POST'])\n",
    "def new_data():\n",
    "    # Check that the required fields are in the POST'ed data\n",
    "    #required = ['sender_address', 'recipient_address', 'amount', 'signature']\n",
    "\n",
    "    #if transaction_result == False:\n",
    "        #response = {'message': 'Invalid Transaction!'}\n",
    "        #return jsonify(response), 200\n",
    "    response = {'message': 'by'}\n",
    "    return jsonify(response), 200\n",
    "\n",
    "@app.route('/nodes/get', methods=['GET'])\n",
    "def full_chain():\n",
    "    response = {\n",
    "        'nodes': nodes\n",
    "    }\n",
    "    return jsonify(response), 200\n",
    "\n",
    "\n",
    "\n",
    "if __name__ == '__main__':\n",
    "    from argparse import ArgumentParser\n",
    "    with open('./data.txt','r') as cg:\n",
    "        nodes=cg.read().split('|')\n",
    "    #parser = ArgumentParser()\n",
    "    #parser.add_argument('-p', '--port', default=80, type=int, help='port to listen on')\n",
    "    #args = parser.parse_args()\n",
    "    port=80\n",
    "    #port = args.port\n",
    "    app.run(host='0.0.0.0', port=port)\n"
   ]
  },
  {
   "cell_type": "code",
   "execution_count": null,
   "metadata": {},
   "outputs": [],
   "source": []
  },
  {
   "cell_type": "code",
   "execution_count": null,
   "metadata": {},
   "outputs": [],
   "source": []
  },
  {
   "cell_type": "code",
   "execution_count": null,
   "metadata": {},
   "outputs": [],
   "source": []
  },
  {
   "cell_type": "code",
   "execution_count": null,
   "metadata": {},
   "outputs": [],
   "source": []
  },
  {
   "cell_type": "code",
   "execution_count": null,
   "metadata": {},
   "outputs": [],
   "source": []
  }
 ],
 "metadata": {
  "kernelspec": {
   "display_name": "Python 3",
   "language": "python",
   "name": "python3"
  },
  "language_info": {
   "codemirror_mode": {
    "name": "ipython",
    "version": 3
   },
   "file_extension": ".py",
   "mimetype": "text/x-python",
   "name": "python",
   "nbconvert_exporter": "python",
   "pygments_lexer": "ipython3",
   "version": "3.6.4"
  }
 },
 "nbformat": 4,
 "nbformat_minor": 4
}

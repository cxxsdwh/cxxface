{
 "cells": [
  {
   "cell_type": "code",
   "execution_count": 1,
   "metadata": {},
   "outputs": [
    {
     "name": "stderr",
     "output_type": "stream",
     "text": [
      "/Library/Frameworks/Python.framework/Versions/3.6/lib/python3.6/site-packages/tensorflow/python/framework/dtypes.py:517: FutureWarning: Passing (type, 1) or '1type' as a synonym of type is deprecated; in a future version of numpy, it will be understood as (type, (1,)) / '(1,)type'.\n",
      "  _np_qint8 = np.dtype([(\"qint8\", np.int8, 1)])\n",
      "/Library/Frameworks/Python.framework/Versions/3.6/lib/python3.6/site-packages/tensorflow/python/framework/dtypes.py:518: FutureWarning: Passing (type, 1) or '1type' as a synonym of type is deprecated; in a future version of numpy, it will be understood as (type, (1,)) / '(1,)type'.\n",
      "  _np_quint8 = np.dtype([(\"quint8\", np.uint8, 1)])\n",
      "/Library/Frameworks/Python.framework/Versions/3.6/lib/python3.6/site-packages/tensorflow/python/framework/dtypes.py:519: FutureWarning: Passing (type, 1) or '1type' as a synonym of type is deprecated; in a future version of numpy, it will be understood as (type, (1,)) / '(1,)type'.\n",
      "  _np_qint16 = np.dtype([(\"qint16\", np.int16, 1)])\n",
      "/Library/Frameworks/Python.framework/Versions/3.6/lib/python3.6/site-packages/tensorflow/python/framework/dtypes.py:520: FutureWarning: Passing (type, 1) or '1type' as a synonym of type is deprecated; in a future version of numpy, it will be understood as (type, (1,)) / '(1,)type'.\n",
      "  _np_quint16 = np.dtype([(\"quint16\", np.uint16, 1)])\n",
      "/Library/Frameworks/Python.framework/Versions/3.6/lib/python3.6/site-packages/tensorflow/python/framework/dtypes.py:521: FutureWarning: Passing (type, 1) or '1type' as a synonym of type is deprecated; in a future version of numpy, it will be understood as (type, (1,)) / '(1,)type'.\n",
      "  _np_qint32 = np.dtype([(\"qint32\", np.int32, 1)])\n",
      "/Library/Frameworks/Python.framework/Versions/3.6/lib/python3.6/site-packages/tensorflow/python/framework/dtypes.py:526: FutureWarning: Passing (type, 1) or '1type' as a synonym of type is deprecated; in a future version of numpy, it will be understood as (type, (1,)) / '(1,)type'.\n",
      "  np_resource = np.dtype([(\"resource\", np.ubyte, 1)])\n"
     ]
    }
   ],
   "source": [
    "# -*- coding: utf-8 -*-\n",
    "\n",
    "import tensorflow as tf\n",
    "import numpy as np\n",
    "import imageio\n",
    "import facenet\n",
    "from scipy import misc"
   ]
  },
  {
   "cell_type": "code",
   "execution_count": 2,
   "metadata": {},
   "outputs": [
    {
     "name": "stdout",
     "output_type": "stream",
     "text": [
      "建立facenet embedding模型\n",
      "Model directory: /Users/chenxiaoxuan/Downloads/20180402-114759\n",
      "Metagraph file: model-20180402-114759.meta\n",
      "Checkpoint file: model-20180402-114759.ckpt-275\n",
      "INFO:tensorflow:Restoring parameters from /Users/chenxiaoxuan/Downloads/20180402-114759/model-20180402-114759.ckpt-275\n",
      "facenet embedding模型建立完毕\n"
     ]
    }
   ],
   "source": [
    "image_size = 160 #don't need equal to real image size, but this value should not small than this\n",
    "modeldir = '/Users/chenxiaoxuan/Downloads/20180402-114759' #change to your model dir\n",
    "image_name1 = '/Users/chenxiaoxuan/Downloads/1.jpg' #change to your image name\n",
    "image_name2 = '/Users/chenxiaoxuan/Downloads/2.jpg' #change to your image name\n",
    "\n",
    "print('建立facenet embedding模型')\n",
    "tf.Graph().as_default()\n",
    "sess = tf.InteractiveSession()\n",
    "#init = tf.global_variables_initializer()\n",
    "#sess.run(init)\n",
    "#with sess:\n",
    "\n",
    "facenet.load_model(modeldir)\n",
    "images_placeholder = tf.get_default_graph().get_tensor_by_name(\"input:0\")\n",
    "embeddings = tf.get_default_graph().get_tensor_by_name(\"embeddings:0\")\n",
    "phase_train_placeholder = tf.get_default_graph().get_tensor_by_name(\"phase_train:0\")\n",
    "embedding_size = embeddings.get_shape()[1]\n",
    "\n",
    "\n",
    "\n",
    "print('facenet embedding模型建立完毕')"
   ]
  },
  {
   "cell_type": "code",
   "execution_count": 5,
   "metadata": {},
   "outputs": [],
   "source": [
    "#############不要\n",
    "\n",
    "def image_character(image_n):\n",
    "    scaled_reshape = []\n",
    "    image1 = imageio.imread(image_n, pilmode='RGB')\n",
    "    image1 = resize(image1, (image_size, image_size), interpolation=cv2.INTER_CUBIC)\n",
    "    \n",
    "    image1 = facenet.prewhiten(image1)\n",
    "    scaled_reshape.append(image1.reshape(-1,image_size,image_size,3))\n",
    "    emb_array1 = np.zeros((1, embedding_size))\n",
    "    return sess.run(embeddings, feed_dict={images_placeholder: scaled_reshape[0], phase_train_placeholder: False })[0]\n",
    "#dist = np.sqrt(np.sum(np.square(emb_array1[0]-emb_array2[0])))\n",
    "#print(\"128维特征向量的欧氏距离：%f \"%dist)"
   ]
  },
  {
   "cell_type": "code",
   "execution_count": 4,
   "metadata": {},
   "outputs": [],
   "source": [
    "\n",
    "from facenet import detect_face\n",
    "\n",
    "margin=32\n",
    "with tf.Graph().as_default():\n",
    "        sess2 = tf.Session(config=tf.ConfigProto(log_device_placement=False))\n",
    "        with sess2.as_default():\n",
    "            pnet, rnet, onet = detect_face.create_mtcnn(sess2, None)\n",
    "minsize = 20 # minimum size of face\n",
    "threshold = [ 0.6, 0.7, 0.7 ]  # three steps's threshold\n",
    "factor = 0.709 # scale factor\n",
    "\n",
    "#sess = tf.Session()\n",
    "#init = tf.global_variables_initializer()\n",
    "#sess.run(init)\n",
    "\n",
    "def image_character(image_n):\n",
    "    img = imageio.imread(image_n, pilmode='RGB')\n",
    "    img_size = np.asarray(img.shape)[0:2]\n",
    "    bounding_boxes, _ = detect_face.detect_face(img, minsize, pnet, rnet, onet, threshold, factor)\n",
    "    if len(bounding_boxes) < 1:\n",
    "      print(\"can't detect face, remove \")\n",
    "    det = np.squeeze(bounding_boxes[0,0:4])\n",
    "    bb = np.zeros(4, dtype=np.int32)\n",
    "    bb[0] = np.maximum(det[0]-margin/2, 0)\n",
    "    bb[1] = np.maximum(det[1]-margin/2, 0)\n",
    "    bb[2] = np.minimum(det[2]+margin/2, img_size[1])\n",
    "    bb[3] = np.minimum(det[3]+margin/2, img_size[0])\n",
    "    cropped = img[bb[1]:bb[3],bb[0]:bb[2],:]\n",
    "    aligned = misc.imresize(cropped, (image_size, image_size), interp='bilinear')\n",
    "    prewhitened = [facenet.prewhiten(aligned)]\n",
    "    \n",
    "    #emb_array1 = np.zeros((1, embedding_size))\n",
    "    return sess.run(embeddings, feed_dict={images_placeholder: prewhitened, phase_train_placeholder: False })[0]\n",
    "\n",
    "\n",
    "\n"
   ]
  },
  {
   "cell_type": "code",
   "execution_count": 11,
   "metadata": {},
   "outputs": [
    {
     "name": "stderr",
     "output_type": "stream",
     "text": [
      "/Library/Frameworks/Python.framework/Versions/3.6/lib/python3.6/site-packages/ipykernel_launcher.py:30: DeprecationWarning: `imresize` is deprecated!\n",
      "`imresize` is deprecated in SciPy 1.0.0, and will be removed in 1.3.0.\n",
      "Use Pillow instead: ``numpy.array(Image.fromarray(arr).resize())``.\n"
     ]
    }
   ],
   "source": [
    "#######不要\n",
    "from facenet import detect_face\n",
    "\n",
    "margin=44\n",
    "with tf.Graph().as_default():\n",
    "        sess = tf.Session(config=tf.ConfigProto(log_device_placement=False))\n",
    "        with sess.as_default():\n",
    "            pnet, rnet, onet = detect_face.create_mtcnn(sess, None)\n",
    "minsize = 20 # minimum size of face\n",
    "threshold = [ 0.6, 0.7, 0.7 ]  # three steps's threshold\n",
    "factor = 0.709 # scale factor\n",
    "\n",
    "sess = tf.Session()\n",
    "init = tf.global_variables_initializer()\n",
    "sess.run(init)\n",
    "\n",
    "image_n=\"/Users/chenxiaoxuan/Downloads/1.jpg\"\n",
    "img = imageio.imread(image_n, pilmode='RGB')\n",
    "img_size = np.asarray(img.shape)[0:2]\n",
    "bounding_boxes, _ = detect_face.detect_face(img, minsize, pnet, rnet, onet, threshold, factor)\n",
    "if len(bounding_boxes) < 1:\n",
    "  print(\"can't detect face, remove \")\n",
    "det = np.squeeze(bounding_boxes[0,0:4])\n",
    "bb = np.zeros(4, dtype=np.int32)\n",
    "bb[0] = np.maximum(det[0]-margin/2, 0)\n",
    "bb[1] = np.maximum(det[1]-margin/2, 0)\n",
    "bb[2] = np.minimum(det[2]+margin/2, img_size[1])\n",
    "bb[3] = np.minimum(det[3]+margin/2, img_size[0])\n",
    "cropped = img[bb[1]:bb[3],bb[0]:bb[2],:]\n",
    "aligned = misc.imresize(cropped, (image_size, image_size), interp='bilinear')\n",
    "prewhitened = [facenet.prewhiten(aligned)]\n"
   ]
  },
  {
   "cell_type": "code",
   "execution_count": 9,
   "metadata": {},
   "outputs": [
    {
     "name": "stderr",
     "output_type": "stream",
     "text": [
      "Clipping input data to the valid range for imshow with RGB data ([0..1] for floats or [0..255] for integers).\n"
     ]
    },
    {
     "ename": "NameError",
     "evalue": "name 'a' is not defined",
     "output_type": "error",
     "traceback": [
      "\u001b[0;31m---------------------------------------------------------------------------\u001b[0m",
      "\u001b[0;31mNameError\u001b[0m                                 Traceback (most recent call last)",
      "\u001b[0;32m<ipython-input-9-e6425717820d>\u001b[0m in \u001b[0;36m<module>\u001b[0;34m\u001b[0m\n\u001b[1;32m      4\u001b[0m \u001b[0mplt\u001b[0m\u001b[0;34m.\u001b[0m\u001b[0mfigure\u001b[0m\u001b[0;34m(\u001b[0m\u001b[0mfigsize\u001b[0m\u001b[0;34m=\u001b[0m\u001b[0;34m(\u001b[0m\u001b[0;36m10\u001b[0m\u001b[0;34m,\u001b[0m\u001b[0;36m4\u001b[0m\u001b[0;34m)\u001b[0m\u001b[0;34m)\u001b[0m\u001b[0;34m\u001b[0m\u001b[0m\n\u001b[1;32m      5\u001b[0m \u001b[0mplt\u001b[0m\u001b[0;34m.\u001b[0m\u001b[0mimshow\u001b[0m\u001b[0;34m(\u001b[0m\u001b[0mprewhitened\u001b[0m\u001b[0;34m[\u001b[0m\u001b[0;36m0\u001b[0m\u001b[0;34m]\u001b[0m\u001b[0;34m)\u001b[0m\u001b[0;34m\u001b[0m\u001b[0m\n\u001b[0;32m----> 6\u001b[0;31m \u001b[0ma\u001b[0m\u001b[0;34m.\u001b[0m\u001b[0mappend\u001b[0m\u001b[0;34m(\u001b[0m\u001b[0mprewhitened\u001b[0m\u001b[0;34m[\u001b[0m\u001b[0;36m0\u001b[0m\u001b[0;34m]\u001b[0m\u001b[0;34m)\u001b[0m\u001b[0;34m\u001b[0m\u001b[0m\n\u001b[0m",
      "\u001b[0;31mNameError\u001b[0m: name 'a' is not defined"
     ]
    },
    {
     "data": {
      "image/png": "[encoded data removed]",
      "text/plain": [
       "<Figure size 720x288 with 1 Axes>"
      ]
     },
     "metadata": {
      "needs_background": "light"
     },
     "output_type": "display_data"
    }
   ],
   "source": [
    "###不要\n",
    "#a=[]\n",
    "import matplotlib.pyplot as plt\n",
    "plt.figure(figsize=(10,4))\n",
    "plt.imshow(prewhitened[0])\n",
    "a.append(prewhitened[0])"
   ]
  },
  {
   "cell_type": "code",
   "execution_count": 10,
   "metadata": {},
   "outputs": [],
   "source": [
    "##############\n",
    "tmp=sess.run(embeddings, feed_dict={images_placeholder: prewhitened, phase_train_placeholder: False })"
   ]
  },
  {
   "cell_type": "code",
   "execution_count": 28,
   "metadata": {},
   "outputs": [
    {
     "data": {
      "text/plain": [
       "0.02160280501974221"
      ]
     },
     "execution_count": 28,
     "metadata": {},
     "output_type": "execute_result"
    }
   ],
   "source": [
    "sum(np.square(tmp[0]-tmp[1]))"
   ]
  },
  {
   "cell_type": "code",
   "execution_count": 15,
   "metadata": {},
   "outputs": [
    {
     "name": "stdout",
     "output_type": "stream",
     "text": [
      "0.021360418557860417\n"
     ]
    }
   ],
   "source": [
    "###################\n",
    "a=[]\n",
    "a.append(image_character(\"/Users/chenxiaoxuan/Downloads/2432CBEDECF09802B37737F5A2B_B74E5746_658C.jpg\"))\n",
    "a.append(image_character(\"/Users/chenxiaoxuan/Downloads/1.jpg\"))\n",
    "\n",
    "#print(sum(np.square(a-b)))"
   ]
  },
  {
   "cell_type": "code",
   "execution_count": 11,
   "metadata": {},
   "outputs": [],
   "source": [
    "savdir = '/Users/chenxiaoxuan/Documents/python/face'\n",
    "characters=np.zeros((512,1))+2\n",
    "names=['0']\n",
    "with open(savdir+\"/names.txt\",'a') as f:\n",
    "        f.write(\"0\")\n",
    "def add_face(vec,name):\n",
    "    global characters,names\n",
    "    names.append(name)\n",
    "    characters=np.column_stack((characters,vec))\n",
    "    np.save(savdir+\"/chara.npy\",characters)\n",
    "    with open(savdir+\"/names.txt\",'a') as f:\n",
    "        f.write(\" \"+name)\n",
    "add_face(characters,\"0\")#变成二维\n",
    "def get_name(vec):\n",
    "    tmp=np.sum(np.square(characters-vec[:,None]),axis=0)\n",
    "    print(tmp)\n",
    "    index=tmp.argmin()\n",
    "    if tmp[index]<0.9:\n",
    "        return names[index]\n",
    "    else:\n",
    "        return \"N\""
   ]
  },
  {
   "cell_type": "code",
   "execution_count": 7,
   "metadata": {},
   "outputs": [
    {
     "name": "stdout",
     "output_type": "stream",
     "text": [
      "[[1 0]\n",
      " [0 0]\n",
      " [1 0]]\n"
     ]
    }
   ],
   "source": [
    "arr=np.array([2,2,2])\n",
    "vec=np.array([1,2,1])\n",
    "arr=np.column_stack((arr,vec))\n",
    "print(np.square(arr-vec[:,None]))\n",
    "vec=image_character(image_name1)"
   ]
  },
  {
   "cell_type": "code",
   "execution_count": 12,
   "metadata": {},
   "outputs": [
    {
     "name": "stdout",
     "output_type": "stream",
     "text": [
      " * Serving Flask app \"__main__\" (lazy loading)\n",
      " * Environment: production\n",
      "   WARNING: Do not use the development server in a production environment.\n",
      "   Use a production WSGI server instead.\n",
      " * Debug mode: off\n"
     ]
    },
    {
     "name": "stderr",
     "output_type": "stream",
     "text": [
      " * Running on http://0.0.0.0:80/ (Press CTRL+C to quit)\n",
      "127.0.0.1 - - [07/Feb/2020 22:21:51] \"\u001b[33mGET /null HTTP/1.1\u001b[0m\" 404 -\n",
      "127.0.0.1 - - [07/Feb/2020 22:21:51] \"\u001b[37mGET / HTTP/1.1\u001b[0m\" 200 -\n",
      "127.0.0.1 - - [07/Feb/2020 22:21:52] \"\u001b[37mGET / HTTP/1.1\u001b[0m\" 200 -\n",
      "127.0.0.1 - - [07/Feb/2020 22:21:52] \"\u001b[33mGET /null HTTP/1.1\u001b[0m\" 404 -\n",
      "/Library/Frameworks/Python.framework/Versions/3.6/lib/python3.6/site-packages/ipykernel_launcher.py:29: DeprecationWarning: `imresize` is deprecated!\n",
      "`imresize` is deprecated in SciPy 1.0.0, and will be removed in 1.3.0.\n",
      "Use Pillow instead: ``numpy.array(Image.fromarray(arr).resize())``.\n",
      "127.0.0.1 - - [07/Feb/2020 22:22:00] \"\u001b[37mPOST /upload_image HTTP/1.1\u001b[0m\" 200 -\n"
     ]
    },
    {
     "name": "stdout",
     "output_type": "stream",
     "text": [
      "[2045.21299907 2045.21299907]\n"
     ]
    },
    {
     "name": "stderr",
     "output_type": "stream",
     "text": [
      "/Library/Frameworks/Python.framework/Versions/3.6/lib/python3.6/site-packages/ipykernel_launcher.py:31: DeprecationWarning: The binary mode of fromstring is deprecated, as it behaves surprisingly on unicode inputs. Use frombuffer instead\n",
      "127.0.0.1 - - [07/Feb/2020 22:22:03] \"\u001b[37mPOST /add_data HTTP/1.1\u001b[0m\" 200 -\n",
      "127.0.0.1 - - [07/Feb/2020 22:22:09] \"\u001b[37mPOST /upload_image HTTP/1.1\u001b[0m\" 200 -\n"
     ]
    },
    {
     "name": "stdout",
     "output_type": "stream",
     "text": [
      "[2.04384197e+03 2.04384197e+03 3.49142699e-01]\n"
     ]
    },
    {
     "name": "stderr",
     "output_type": "stream",
     "text": [
      "127.0.0.1 - - [07/Feb/2020 22:22:20] \"\u001b[37mPOST /upload_image HTTP/1.1\u001b[0m\" 200 -\n"
     ]
    },
    {
     "name": "stdout",
     "output_type": "stream",
     "text": [
      "[2.04996555e+03 2.04996555e+03 8.97750388e-01]\n"
     ]
    },
    {
     "name": "stderr",
     "output_type": "stream",
     "text": [
      "127.0.0.1 - - [07/Feb/2020 22:22:40] \"\u001b[37mPOST /upload_image HTTP/1.1\u001b[0m\" 200 -\n"
     ]
    },
    {
     "name": "stdout",
     "output_type": "stream",
     "text": [
      "[2.05168519e+03 2.05168519e+03 9.30578530e-01]\n"
     ]
    },
    {
     "name": "stderr",
     "output_type": "stream",
     "text": [
      "127.0.0.1 - - [07/Feb/2020 22:22:43] \"\u001b[37mPOST /add_data HTTP/1.1\u001b[0m\" 200 -\n",
      "127.0.0.1 - - [07/Feb/2020 22:22:51] \"\u001b[37mPOST /upload_image HTTP/1.1\u001b[0m\" 200 -\n"
     ]
    },
    {
     "name": "stdout",
     "output_type": "stream",
     "text": [
      "[2.05057618e+03 2.05057618e+03 9.74605689e-01 3.66465518e-01]\n"
     ]
    },
    {
     "name": "stderr",
     "output_type": "stream",
     "text": [
      "127.0.0.1 - - [07/Feb/2020 22:22:59] \"\u001b[37mPOST /upload_image HTTP/1.1\u001b[0m\" 200 -\n"
     ]
    },
    {
     "name": "stdout",
     "output_type": "stream",
     "text": [
      "[2.04919897e+03 2.04919897e+03 9.89893759e-01 1.75577574e-01]\n"
     ]
    },
    {
     "name": "stderr",
     "output_type": "stream",
     "text": [
      "127.0.0.1 - - [07/Feb/2020 22:23:09] \"\u001b[37mPOST /upload_image HTTP/1.1\u001b[0m\" 200 -\n"
     ]
    },
    {
     "name": "stdout",
     "output_type": "stream",
     "text": [
      "[2.04810146e+03 2.04810146e+03 1.34636365e+00 1.24167750e+00]\n"
     ]
    },
    {
     "name": "stderr",
     "output_type": "stream",
     "text": [
      "127.0.0.1 - - [07/Feb/2020 22:23:12] \"\u001b[37mPOST /add_data HTTP/1.1\u001b[0m\" 200 -\n",
      "127.0.0.1 - - [07/Feb/2020 22:23:22] \"\u001b[37mPOST /upload_image HTTP/1.1\u001b[0m\" 200 -\n"
     ]
    },
    {
     "name": "stdout",
     "output_type": "stream",
     "text": [
      "[2.04531385e+03 2.04531385e+03 1.31405864e+00 1.70740265e+00\n",
      " 1.58704864e+00]\n"
     ]
    },
    {
     "name": "stderr",
     "output_type": "stream",
     "text": [
      "127.0.0.1 - - [07/Feb/2020 22:23:26] \"\u001b[37mPOST /add_data HTTP/1.1\u001b[0m\" 200 -\n",
      "127.0.0.1 - - [07/Feb/2020 22:23:33] \"\u001b[37mPOST /upload_image HTTP/1.1\u001b[0m\" 200 -\n"
     ]
    },
    {
     "name": "stdout",
     "output_type": "stream",
     "text": [
      "[2.04867862e+03 2.04867862e+03 1.72572071e+00 1.84982129e+00\n",
      " 1.51410117e+00 1.31750341e+00]\n"
     ]
    },
    {
     "name": "stderr",
     "output_type": "stream",
     "text": [
      "127.0.0.1 - - [07/Feb/2020 22:23:38] \"\u001b[37mPOST /add_data HTTP/1.1\u001b[0m\" 200 -\n",
      "127.0.0.1 - - [07/Feb/2020 22:23:56] \"\u001b[37mPOST /upload_image HTTP/1.1\u001b[0m\" 200 -\n"
     ]
    },
    {
     "name": "stdout",
     "output_type": "stream",
     "text": [
      "[2.05057618e+03 2.05057618e+03 9.74605689e-01 3.66465518e-01\n",
      " 1.14306622e+00 1.69726070e+00 1.73271879e+00]\n"
     ]
    }
   ],
   "source": [
    "#!/Library/Frameworks/Python.framework/Versions/3.6/bin/python3\n",
    "#from urllib.parse import urlparse\n",
    "from flask import Flask, jsonify, request, render_template\n",
    "from flask_cors import CORS\n",
    "import imageio\n",
    "import base64\n",
    "# Instantiate the Node\n",
    "\n",
    "app = Flask(__name__)\n",
    "CORS(app)\n",
    "\n",
    "\n",
    "@app.route('/')\n",
    "def index():\n",
    "    return render_template('./index.html')\n",
    "\n",
    "\n",
    "@app.route('/upload_image', methods=['POST'])\n",
    "def upload_image():\n",
    "    \n",
    "    tmp = request.files['avatar']\n",
    "    vec=image_character(tmp)\n",
    "    response = {\n",
    "        'message':base64.b64encode(vec.tostring()),\n",
    "        'name':get_name(vec)\n",
    "    }\n",
    "    return jsonify(response), 200\n",
    "\n",
    "@app.route('/add_data', methods=['POST'])\n",
    "def add_data():\n",
    "    add_face(np.fromstring(base64.b64decode(request.form['message']),dtype=np.float32),request.form['name'])\n",
    "    response = {\n",
    "        'message':'ha'\n",
    "    }\n",
    "    return jsonify(response), 200\n",
    "\n",
    "\n",
    "\n",
    "if __name__ == '__main__':\n",
    "    #from argparse import ArgumentParser\n",
    "    #with open('./data.txt','r') as cg:\n",
    "    #    nodes=cg.read().split('|')\n",
    "    #parser = ArgumentParser()\n",
    "    #parser.add_argument('-p', '--port', default=80, type=int, help='port to listen on')\n",
    "    #args = parser.parse_args()\n",
    "    port=80\n",
    "    #port = args.port\n",
    "    app.run(host='0.0.0.0', port=port)"
   ]
  },
  {
   "cell_type": "code",
   "execution_count": 77,
   "metadata": {},
   "outputs": [],
   "source": []
  },
  {
   "cell_type": "code",
   "execution_count": 78,
   "metadata": {},
   "outputs": [],
   "source": [
    "\n",
    "a=(vec.tostring())"
   ]
  },
  {
   "cell_type": "code",
   "execution_count": 69,
   "metadata": {},
   "outputs": [
    {
     "name": "stdout",
     "output_type": "stream",
     "text": [
      "b'AQAAAAAAAAACAAAAAAAAAAMAAAAAAAAABAAAAAAAAAAFAAAAAAAAAAYAAAAAAAAABwAAAAAAAAAIAAAAAAAAAA=='\n"
     ]
    }
   ],
   "source": [
    "print(a)"
   ]
  },
  {
   "cell_type": "code",
   "execution_count": 81,
   "metadata": {},
   "outputs": [
    {
     "data": {
      "text/plain": [
       "array([1, 2, 3, 4, 5, 6, 7, 8])"
      ]
     },
     "execution_count": 81,
     "metadata": {},
     "output_type": "execute_result"
    }
   ],
   "source": [
    "np.frombuffer(a,dtype=np.int64)"
   ]
  },
  {
   "cell_type": "code",
   "execution_count": 84,
   "metadata": {},
   "outputs": [
    {
     "data": {
      "text/plain": [
       "numpy.float32"
      ]
     },
     "execution_count": 84,
     "metadata": {},
     "output_type": "execute_result"
    }
   ],
   "source": [
    "type(vec[0])"
   ]
  },
  {
   "cell_type": "code",
   "execution_count": 27,
   "metadata": {},
   "outputs": [
    {
     "data": {
      "text/plain": [
       "0.0225"
      ]
     },
     "execution_count": 27,
     "metadata": {},
     "output_type": "execute_result"
    }
   ],
   "source": [
    "0.15*0.15"
   ]
  },
  {
   "cell_type": "code",
   "execution_count": 13,
   "metadata": {},
   "outputs": [
    {
     "data": {
      "text/plain": [
       "0.5625"
      ]
     },
     "execution_count": 13,
     "metadata": {},
     "output_type": "execute_result"
    }
   ],
   "source": [
    ".75*.75"
   ]
  },
  {
   "cell_type": "code",
   "execution_count": null,
   "metadata": {},
   "outputs": [],
   "source": []
  }
 ],
 "metadata": {
  "kernelspec": {
   "display_name": "Python 3",
   "language": "python",
   "name": "python3"
  },
  "language_info": {
   "codemirror_mode": {
    "name": "ipython",
    "version": 3
   },
   "file_extension": ".py",
   "mimetype": "text/x-python",
   "name": "python",
   "nbconvert_exporter": "python",
   "pygments_lexer": "ipython3",
   "version": "3.6.4"
  }
 },
 "nbformat": 4,
 "nbformat_minor": 4
}
